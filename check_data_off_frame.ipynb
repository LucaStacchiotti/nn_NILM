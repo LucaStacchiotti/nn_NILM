{
  "nbformat": 4,
  "nbformat_minor": 0,
  "metadata": {
    "colab": {
      "provenance": []
    },
    "kernelspec": {
      "name": "python3",
      "display_name": "Python 3"
    },
    "language_info": {
      "name": "python"
    }
  },
  "cells": [
    {
      "cell_type": "markdown",
      "source": [
        "**Taglia** (all empty ,all issues, all 40min)"
      ],
      "metadata": {
        "id": "DX8mU6vbDhlI"
      }
    },
    {
      "cell_type": "code",
      "execution_count": null,
      "metadata": {
        "id": "c6GbQHxxDZfq"
      },
      "outputs": [],
      "source": [
        "import os\n",
        "import time\n",
        "import itertools\n",
        "import math\n",
        "import random\n",
        "import json\n",
        "\n",
        "import numpy as np\n",
        "\n",
        "import torch\n",
        "\n",
        "import pandas as pd"
      ]
    },
    {
      "cell_type": "code",
      "source": [
        "filepath='/content/drive/MyDrive/Tesina_DACLS/dataset/refit/'\n",
        "h_num='4'\n",
        "filename='H'+h_num+'_t.csv'\n",
        "app_order=['Unix','Aggregate','WM','DW','KE','FR','MI']\n",
        "step_size=100\n",
        "#idx_list=list(range(0,256*3))"
      ],
      "metadata": {
        "id": "aKZe0uM0Dxsb"
      },
      "execution_count": null,
      "outputs": []
    },
    {
      "cell_type": "code",
      "source": [
        "data=pd.read_csv(filepath+filename)\n",
        "data=torch.tensor(data.values , dtype=torch.int)"
      ],
      "metadata": {
        "id": "FzSVUtRmEC4V"
      },
      "execution_count": null,
      "outputs": []
    },
    {
      "cell_type": "code",
      "source": [
        "d_len=data.size(0)\n",
        "d_len=math.floor((d_len-600)/step_size)\n",
        "print(d_len)\n",
        "d_list=list(range(d_len))"
      ],
      "metadata": {
        "colab": {
          "base_uri": "https://localhost:8080/"
        },
        "id": "SnjXW9twukcb",
        "outputId": "ccba00fb-f2bf-425d-9f60-38dc119b8e62"
      },
      "execution_count": null,
      "outputs": [
        {
          "output_type": "stream",
          "name": "stdout",
          "text": [
            "67599\n"
          ]
        }
      ]
    },
    {
      "cell_type": "code",
      "source": [
        "forbidden_idx=[]\n",
        "for i in d_list:\n",
        "  frame_time=data[step_size*i:step_size*i+600,0]\n",
        "  frame_time_diff=torch.diff(frame_time)\n",
        "  max_diff=torch.max(frame_time_diff)\n",
        "  if max_diff>60*8:\n",
        "    forbidden_idx.append(i)\n",
        "  #if frame"
      ],
      "metadata": {
        "id": "gP3vhwryEWdh",
        "colab": {
          "base_uri": "https://localhost:8080/",
          "height": 236
        },
        "outputId": "e70dc5fc-4bcf-4e26-ed29-80e9ae68b3e3"
      },
      "execution_count": null,
      "outputs": [
        {
          "output_type": "error",
          "ename": "NameError",
          "evalue": "ignored",
          "traceback": [
            "\u001b[0;31m---------------------------------------------------------------------------\u001b[0m",
            "\u001b[0;31mNameError\u001b[0m                                 Traceback (most recent call last)",
            "\u001b[0;32m<ipython-input-2-4d797e021982>\u001b[0m in \u001b[0;36m<cell line: 2>\u001b[0;34m()\u001b[0m\n\u001b[1;32m      1\u001b[0m \u001b[0mforbidden_idx\u001b[0m\u001b[0;34m=\u001b[0m\u001b[0;34m[\u001b[0m\u001b[0;34m]\u001b[0m\u001b[0;34m\u001b[0m\u001b[0;34m\u001b[0m\u001b[0m\n\u001b[0;32m----> 2\u001b[0;31m \u001b[0;32mfor\u001b[0m \u001b[0mi\u001b[0m \u001b[0;32min\u001b[0m \u001b[0md_list\u001b[0m\u001b[0;34m:\u001b[0m\u001b[0;34m\u001b[0m\u001b[0;34m\u001b[0m\u001b[0m\n\u001b[0m\u001b[1;32m      3\u001b[0m   \u001b[0mframe_time\u001b[0m\u001b[0;34m=\u001b[0m\u001b[0mdata\u001b[0m\u001b[0;34m[\u001b[0m\u001b[0mstep_size\u001b[0m\u001b[0;34m*\u001b[0m\u001b[0mi\u001b[0m\u001b[0;34m:\u001b[0m\u001b[0mstep_size\u001b[0m\u001b[0;34m*\u001b[0m\u001b[0mi\u001b[0m\u001b[0;34m+\u001b[0m\u001b[0;36m600\u001b[0m\u001b[0;34m,\u001b[0m\u001b[0;36m0\u001b[0m\u001b[0;34m]\u001b[0m\u001b[0;34m\u001b[0m\u001b[0;34m\u001b[0m\u001b[0m\n\u001b[1;32m      4\u001b[0m   \u001b[0mframe_time_diff\u001b[0m\u001b[0;34m=\u001b[0m\u001b[0mtorch\u001b[0m\u001b[0;34m.\u001b[0m\u001b[0mdiff\u001b[0m\u001b[0;34m(\u001b[0m\u001b[0mframe_time\u001b[0m\u001b[0;34m)\u001b[0m\u001b[0;34m\u001b[0m\u001b[0;34m\u001b[0m\u001b[0m\n\u001b[1;32m      5\u001b[0m   \u001b[0mmax_diff\u001b[0m\u001b[0;34m=\u001b[0m\u001b[0mtorch\u001b[0m\u001b[0;34m.\u001b[0m\u001b[0mmax\u001b[0m\u001b[0;34m(\u001b[0m\u001b[0mframe_time_diff\u001b[0m\u001b[0;34m)\u001b[0m\u001b[0;34m\u001b[0m\u001b[0;34m\u001b[0m\u001b[0m\n",
            "\u001b[0;31mNameError\u001b[0m: name 'd_list' is not defined"
          ]
        }
      ]
    },
    {
      "cell_type": "code",
      "source": [
        "empty_frame=[]\n",
        "for i in d_list:\n",
        "  frame_time=data[step_size*i:step_size*i+600,2:7]\n",
        "  max=torch.max(frame_time)\n",
        "  if max<5:\n",
        "    empty_frame.append(i)"
      ],
      "metadata": {
        "id": "9bVmCuLyO5Ww"
      },
      "execution_count": null,
      "outputs": []
    },
    {
      "cell_type": "code",
      "source": [
        "#empty_frame_u=random.choices(empty_frame, k=math.floor(len(empty_frame)/2))\n"
      ],
      "metadata": {
        "id": "-wJ2oUFfN7bG"
      },
      "execution_count": null,
      "outputs": []
    },
    {
      "cell_type": "code",
      "source": [
        "# Data2\n",
        "filename='CLEAN_House'+h_num+'.csv'"
      ],
      "metadata": {
        "id": "h5ur_PJ9B2L8"
      },
      "execution_count": null,
      "outputs": []
    },
    {
      "cell_type": "code",
      "source": [
        "data=pd.read_csv(filepath+filename,usecols=[12])\n",
        "data=torch.tensor(data.values , dtype=torch.int)"
      ],
      "metadata": {
        "id": "SsWyD-R9COUl"
      },
      "execution_count": null,
      "outputs": []
    },
    {
      "cell_type": "code",
      "source": [
        "issue_idx=[]\n",
        "for i in d_list:\n",
        "  frame=data[step_size*i:step_size*i+600,0]\n",
        "  sum=torch.sum(frame)\n",
        "  if sum>=1:\n",
        "    issue_idx.append(i)\n",
        "  #if frame"
      ],
      "metadata": {
        "id": "rDqWZPmJC71Q"
      },
      "execution_count": null,
      "outputs": []
    },
    {
      "cell_type": "code",
      "source": [
        "test=list(set(empty_frame+ forbidden_idx+issue_idx))"
      ],
      "metadata": {
        "id": "8Z1OcSw-MGJW"
      },
      "execution_count": null,
      "outputs": []
    },
    {
      "cell_type": "code",
      "source": [
        "idx_subset=list(set(d_list).difference(test))\n",
        "#while len(idx_subset)%256!=0:\n",
        "#  del idx_subset[-1]"
      ],
      "metadata": {
        "id": "UVqz4X2WQeLE"
      },
      "execution_count": null,
      "outputs": []
    },
    {
      "cell_type": "code",
      "source": [
        "print(len(idx_subset))\n",
        "print(d_len)"
      ],
      "metadata": {
        "colab": {
          "base_uri": "https://localhost:8080/"
        },
        "id": "unX-CyoGTzog",
        "outputId": "bf1c8348-788d-47be-84ab-5ce08bfb2d5d"
      },
      "execution_count": null,
      "outputs": [
        {
          "output_type": "stream",
          "name": "stdout",
          "text": [
            "18795\n",
            "67599\n"
          ]
        }
      ]
    },
    {
      "cell_type": "code",
      "source": [
        "filename='H'+h_num+'_t.csv'\n",
        "data=pd.read_csv(filepath+filename)\n",
        "data=torch.tensor(data.values , dtype=torch.int)"
      ],
      "metadata": {
        "id": "J1yVfRga-23L"
      },
      "execution_count": null,
      "outputs": []
    },
    {
      "cell_type": "code",
      "source": [
        "#Taglia se tempo app sotto 40 min\n",
        "one_min_frame=[]\n",
        "for i in idx_subset:\n",
        "  c=0\n",
        "  frame_time=data[step_size*i:step_size*i+600,2:7]\n",
        "  max,_=torch.max(frame_time,1)\n",
        "  #print(max.values)\n",
        "  for j in range(600):\n",
        "    if max[j]>5:\n",
        "      c=c+1\n",
        "      if c>=300: #40 min\n",
        "        break\n",
        "    elif 600-(j+1)+c<300:\n",
        "      one_min_frame.append(i)\n",
        "      break"
      ],
      "metadata": {
        "id": "jRGc1F7h-VHL"
      },
      "execution_count": null,
      "outputs": []
    },
    {
      "cell_type": "code",
      "source": [
        "idx_subset=list(set(idx_subset).difference(one_min_frame))"
      ],
      "metadata": {
        "id": "Wm9rP-uQEbkC"
      },
      "execution_count": null,
      "outputs": []
    },
    {
      "cell_type": "code",
      "source": [
        "with open(\"/content/drive/MyDrive/Tesina_DACLS/idx_subset/h\"+h_num+\"_idx_subset.json\", 'w') as f:\n",
        "      json.dump(idx_subset, f, indent=2)"
      ],
      "metadata": {
        "id": "bhnmH35URkVP"
      },
      "execution_count": null,
      "outputs": []
    }
  ]
}