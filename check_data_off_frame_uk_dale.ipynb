{
  "nbformat": 4,
  "nbformat_minor": 0,
  "metadata": {
    "colab": {
      "provenance": []
    },
    "kernelspec": {
      "name": "python3",
      "display_name": "Python 3"
    },
    "language_info": {
      "name": "python"
    }
  },
  "cells": [
    {
      "cell_type": "markdown",
      "source": [
        "\n",
        "``\n",
        "\n",
        "**Taglia** (all empty , all 40min)"
      ],
      "metadata": {
        "id": "DX8mU6vbDhlI"
      }
    },
    {
      "cell_type": "code",
      "execution_count": null,
      "metadata": {
        "id": "c6GbQHxxDZfq"
      },
      "outputs": [],
      "source": [
        "import os\n",
        "import time\n",
        "import itertools\n",
        "import math\n",
        "import random\n",
        "import json\n",
        "\n",
        "import numpy as np\n",
        "\n",
        "import torch\n",
        "\n",
        "import pandas as pd"
      ]
    },
    {
      "cell_type": "code",
      "source": [
        "filepath='/content/drive/MyDrive/Tesina_DACLS/dataset/uk_dale/ukdale/house_1/'\n",
        "filename='H1_ukd.npy'\n",
        "app_order=['Unix','Aggregate','WM','DW','KE','FR','MI']\n",
        "step_size=75\n",
        "#idx_list=list(range(0,256*3))"
      ],
      "metadata": {
        "id": "aKZe0uM0Dxsb"
      },
      "execution_count": null,
      "outputs": []
    },
    {
      "cell_type": "code",
      "source": [
        "data=np.load(filepath+filename)\n",
        "data=torch.from_numpy(data)"
      ],
      "metadata": {
        "id": "FzSVUtRmEC4V"
      },
      "execution_count": null,
      "outputs": []
    },
    {
      "cell_type": "code",
      "source": [
        "d_len=data.size(0)\n",
        "d_len=math.floor((d_len-600)/step_size)\n",
        "print(d_len)\n",
        "d_list=list(range(d_len))"
      ],
      "metadata": {
        "colab": {
          "base_uri": "https://localhost:8080/"
        },
        "id": "SnjXW9twukcb",
        "outputId": "b2e8bd56-7b27-401b-b929-44530fc9fdf7"
      },
      "execution_count": null,
      "outputs": [
        {
          "output_type": "stream",
          "name": "stdout",
          "text": [
            "218368\n"
          ]
        }
      ]
    },
    {
      "cell_type": "code",
      "source": [
        "empty_frame=[]\n",
        "for i in d_list:\n",
        "  frame_time=data[step_size*i:step_size*i+600,1:6]\n",
        "  max=torch.max(frame_time)\n",
        "  if max<5:\n",
        "    empty_frame.append(i)"
      ],
      "metadata": {
        "id": "9bVmCuLyO5Ww"
      },
      "execution_count": null,
      "outputs": []
    },
    {
      "cell_type": "code",
      "source": [
        "idx_subset=list(set(d_list).difference(empty_frame))\n",
        "#while len(idx_subset)%256!=0:\n",
        "#  del idx_subset[-1]"
      ],
      "metadata": {
        "id": "UVqz4X2WQeLE"
      },
      "execution_count": null,
      "outputs": []
    },
    {
      "cell_type": "code",
      "source": [
        "print(len(idx_subset))\n",
        "print(d_len)"
      ],
      "metadata": {
        "colab": {
          "base_uri": "https://localhost:8080/"
        },
        "id": "unX-CyoGTzog",
        "outputId": "b0c11d17-7119-4d54-9b3b-3accc7f1b828"
      },
      "execution_count": null,
      "outputs": [
        {
          "output_type": "stream",
          "name": "stdout",
          "text": [
            "18076\n",
            "27795\n"
          ]
        }
      ]
    },
    {
      "cell_type": "code",
      "source": [
        "#Taglia se tempo app sotto 40 min\n",
        "one_min_frame=[]\n",
        "for i in idx_subset:\n",
        "  c=0\n",
        "  frame_time=data[step_size*i:step_size*i+600,1:6]\n",
        "  max,_=torch.max(frame_time,1)\n",
        "  #print(max.values)\n",
        "  for j in range(600):\n",
        "    if max[j]>5: #potenza zero\n",
        "      c=c+1\n",
        "      if c>=300: #40 min\n",
        "        break\n",
        "    elif 600-(j+1)+c<300:\n",
        "      one_min_frame.append(i)\n",
        "      break"
      ],
      "metadata": {
        "id": "jRGc1F7h-VHL"
      },
      "execution_count": null,
      "outputs": []
    },
    {
      "cell_type": "code",
      "source": [
        "idx_subset=list(set(idx_subset).difference(one_min_frame))"
      ],
      "metadata": {
        "id": "Wm9rP-uQEbkC"
      },
      "execution_count": null,
      "outputs": []
    },
    {
      "cell_type": "code",
      "source": [
        "with open(\"/content/drive/MyDrive/Tesina_DACLS/idx_subset/h1_ukdale_idx_subset.json\", 'w') as f:\n",
        "      json.dump(idx_subset, f, indent=2)"
      ],
      "metadata": {
        "id": "bhnmH35URkVP"
      },
      "execution_count": null,
      "outputs": []
    }
  ]
}